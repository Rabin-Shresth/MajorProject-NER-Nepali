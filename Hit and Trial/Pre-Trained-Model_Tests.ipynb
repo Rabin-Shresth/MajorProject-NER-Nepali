{
 "cells": [
  {
   "cell_type": "code",
   "execution_count": 2,
   "metadata": {},
   "outputs": [
    {
     "name": "stderr",
     "output_type": "stream",
     "text": [
      "Some weights of BertForTokenClassification were not initialized from the model checkpoint at bert-base-multilingual-cased and are newly initialized: ['classifier.bias', 'classifier.weight']\n",
      "You should probably TRAIN this model on a down-stream task to be able to use it for predictions and inference.\n"
     ]
    }
   ],
   "source": [
    "import torch\n",
    "from transformers import BertTokenizer, BertForTokenClassification\n",
    "\n",
    "tokenizer = BertTokenizer.from_pretrained('bert-base-multilingual-cased')\n",
    "model = BertForTokenClassification.from_pretrained('bert-base-multilingual-cased')\n"
   ]
  },
  {
   "cell_type": "code",
   "execution_count": 12,
   "metadata": {},
   "outputs": [],
   "source": [
    "model.config.id2label = {0: \"location\", 1: \"people name\"}\n",
    "text = \"My name is Aman. I am a student.\"\n",
    "inputs = tokenizer(text, return_tensors='pt', padding=True, truncation=True)\n"
   ]
  },
  {
   "cell_type": "code",
   "execution_count": 15,
   "metadata": {},
   "outputs": [],
   "source": [
    "with torch.no_grad():\n",
    "    outputs = model(**inputs)\n",
    "\n",
    "predicted_labels_indices = torch.argmax(outputs.logits, dim=2)\n"
   ]
  },
  {
   "cell_type": "code",
   "execution_count": 19,
   "metadata": {},
   "outputs": [
    {
     "ename": "RuntimeError",
     "evalue": "a Tensor with 12 elements cannot be converted to Scalar",
     "output_type": "error",
     "traceback": [
      "\u001b[1;31m---------------------------------------------------------------------------\u001b[0m",
      "\u001b[1;31mRuntimeError\u001b[0m                              Traceback (most recent call last)",
      "Cell \u001b[1;32mIn[19], line 2\u001b[0m\n\u001b[0;32m      1\u001b[0m \u001b[39m# Convert token IDs to labels\u001b[39;00m\n\u001b[1;32m----> 2\u001b[0m label_names \u001b[39m=\u001b[39m [model\u001b[39m.\u001b[39;49mconfig\u001b[39m.\u001b[39;49mid2label[label_id\u001b[39m.\u001b[39;49mitem()] \u001b[39mfor\u001b[39;49;00m label_id \u001b[39min\u001b[39;49;00m predicted_labels_indices]\n\u001b[0;32m      4\u001b[0m \u001b[39m# Print token and corresponding label name\u001b[39;00m\n\u001b[0;32m      5\u001b[0m decoded_tokens \u001b[39m=\u001b[39m tokenizer\u001b[39m.\u001b[39mconvert_ids_to_tokens(inputs[\u001b[39m'\u001b[39m\u001b[39minput_ids\u001b[39m\u001b[39m'\u001b[39m][\u001b[39m0\u001b[39m])\n",
      "Cell \u001b[1;32mIn[19], line 2\u001b[0m, in \u001b[0;36m<listcomp>\u001b[1;34m(.0)\u001b[0m\n\u001b[0;32m      1\u001b[0m \u001b[39m# Convert token IDs to labels\u001b[39;00m\n\u001b[1;32m----> 2\u001b[0m label_names \u001b[39m=\u001b[39m [model\u001b[39m.\u001b[39mconfig\u001b[39m.\u001b[39mid2label[label_id\u001b[39m.\u001b[39;49mitem()] \u001b[39mfor\u001b[39;00m label_id \u001b[39min\u001b[39;00m predicted_labels_indices]\n\u001b[0;32m      4\u001b[0m \u001b[39m# Print token and corresponding label name\u001b[39;00m\n\u001b[0;32m      5\u001b[0m decoded_tokens \u001b[39m=\u001b[39m tokenizer\u001b[39m.\u001b[39mconvert_ids_to_tokens(inputs[\u001b[39m'\u001b[39m\u001b[39minput_ids\u001b[39m\u001b[39m'\u001b[39m][\u001b[39m0\u001b[39m])\n",
      "\u001b[1;31mRuntimeError\u001b[0m: a Tensor with 12 elements cannot be converted to Scalar"
     ]
    }
   ],
   "source": [
    "# Convert token IDs to labels\n",
    "label_names = [model.config.id2label[label_id.item()] for label_id in predicted_labels_indices]\n",
    "\n",
    "# Print token and corresponding label name\n",
    "decoded_tokens = tokenizer.convert_ids_to_tokens(inputs['input_ids'][0])\n",
    "for token, label_name in zip(decoded_tokens, label_names):\n",
    "    if '##' in token:\n",
    "        # Handle subword tokens by appending them to the previous token\n",
    "        print(f\"Token: {decoded_tokens[-1]}{token.replace('##', '')}\\tPredicted Label: {label_name}\")\n",
    "    else:\n",
    "        print(f\"Token: {token}\\tPredicted Label: {label_name}\")"
   ]
  },
  {
   "cell_type": "code",
   "execution_count": 34,
   "metadata": {},
   "outputs": [
    {
     "name": "stderr",
     "output_type": "stream",
     "text": [
      "c:\\Users\\Rabin\\AppData\\Local\\Programs\\Python\\Python311\\Lib\\site-packages\\tqdm\\auto.py:21: TqdmWarning: IProgress not found. Please update jupyter and ipywidgets. See https://ipywidgets.readthedocs.io/en/stable/user_install.html\n",
      "  from .autonotebook import tqdm as notebook_tqdm\n",
      "Some weights of BertForTokenClassification were not initialized from the model checkpoint at bert-base-multilingual-cased and are newly initialized: ['classifier.weight', 'classifier.bias']\n",
      "You should probably TRAIN this model on a down-stream task to be able to use it for predictions and inference.\n"
     ]
    },
    {
     "data": {
      "text/plain": [
       "{'input_ids': tensor([[   101,  40265, 101841,  21645,    851,  62752,  13220,    920,    889,\n",
       "          11186,  55190,  97110,  19885,  69002,  10914,    899,  15778,  28462,\n",
       "            920,    102]]), 'token_type_ids': tensor([[0, 0, 0, 0, 0, 0, 0, 0, 0, 0, 0, 0, 0, 0, 0, 0, 0, 0, 0, 0]]), 'attention_mask': tensor([[1, 1, 1, 1, 1, 1, 1, 1, 1, 1, 1, 1, 1, 1, 1, 1, 1, 1, 1, 1]])}"
      ]
     },
     "execution_count": 34,
     "metadata": {},
     "output_type": "execute_result"
    }
   ],
   "source": [
    "from transformers import BertTokenizer, BertForTokenClassification\n",
    "\n",
    "# Load tokenizer and model\n",
    "tokenizer = BertTokenizer.from_pretrained('bert-base-multilingual-cased')\n",
    "model = BertForTokenClassification.from_pretrained('bert-base-multilingual-cased')\n",
    "\n",
    "# Modify the id2label mapping in the model's configuration\n",
    "model.config.id2label = {0: \"location\", 1: \"people name\",2:\"organization\"}  # Modify this mapping according to your labels\n",
    "\n",
    "# Define an example input in Nepali\n",
    "text = \"मेरो नाम अमन हो। म एक विद्यार्थी हूँ।\"\n",
    "\n",
    "# Tokenize and encode input\n",
    "inputs = tokenizer(text, return_tensors='pt', padding=True, truncation=True)\n",
    "\n",
    "inputs\n",
    "# # Run inference\n",
    "# with torch.no_grad():\n",
    "#     outputs = model(**inputs)\n",
    "\n",
    "# # Get predicted labels (integer indices)\n",
    "# predicted_label_indices = torch.argmax(outputs.logits, dim=2)[0]\n",
    "\n",
    "# # Convert label indices to label names using modified model's configuration\n",
    "# label_names = [model.config.id2label[label_id.item()] for label_id in predicted_label_indices]\n",
    "\n",
    "# # Print token and corresponding label name\n",
    "# decoded_tokens = []\n",
    "# for token, label_name in zip(tokenizer.convert_ids_to_tokens(inputs['input_ids'][0]), label_names):\n",
    "#     if '##' in token and len(decoded_tokens) > 0:\n",
    "#         decoded_tokens[-1] += token.replace('##', '')\n",
    "#     else:\n",
    "#         decoded_tokens.append(token.replace('##', ''))\n",
    "    \n",
    "# for token, label_name in zip(decoded_tokens, label_names):\n",
    "#     print(f\"Token: {token}\\tPredicted Label: {label_name}\")\n"
   ]
  },
  {
   "cell_type": "markdown",
   "metadata": {},
   "source": [
    "## First Phase"
   ]
  },
  {
   "cell_type": "code",
   "execution_count": 48,
   "metadata": {},
   "outputs": [],
   "source": [
    "# Loading and preprocessing labelled data\n",
    "import pandas as pd\n",
    "\n",
    "# csv data load gareko\n",
    "data = pd.read_csv('chunk_2.csv')\n",
    "\n",
    "# text ra label chuttako\n",
    "texts=data['Column1'].tolist()\n",
    "labels=data['Column2'].tolist()\n",
    "\n",
    "# labels lai index diyeko\n",
    "labels_to_index = {'O': 0,'B-Person': 1,'B-Date': 2,'B-Organization': 3,'B-Location': 4}\n",
    "missing_label = 'O'  # Update this based on your use case\n",
    "\n",
    "label_indices = []\n",
    "\n",
    "for sequence_labels in labels:\n",
    "    if isinstance(sequence_labels, str):\n",
    "        label_indices.append([labels_to_index.get(label, labels_to_index[missing_label]) for label in sequence_labels])\n",
    "    else:\n",
    "        # Handle non-string or missing values as needed\n",
    "        # For example, replace with a default label index or skip the sequence\n",
    "        label_indices.append([labels_to_index[missing_label]])\n"
   ]
  },
  {
   "cell_type": "code",
   "execution_count": 52,
   "metadata": {},
   "outputs": [],
   "source": [
    "# tokenization and data preparation\n",
    "from torch.utils.data import Dataset, DataLoader\n",
    "\n",
    "# tokenizing and encoding text\n",
    "tokenized_texts = tokenizer(text, return_tensors='pt', padding=True, truncation=True)\n",
    "\n",
    "# Defining Custom pytorch dataset\n",
    "class custom_datasets(Dataset):\n",
    "    def __init__(self, tokenized_texts, label_indices):\n",
    "        self.tokenized_texts = tokenized_texts\n",
    "        self.label_indices = label_indices\n",
    "    \n",
    "    def __len__(self):\n",
    "        return len(self.tokenized_texts['input_ids'])\n",
    "    \n",
    "    def __getitem__(self, idx):\n",
    "        return {\n",
    "            'input_ids': self.tokenized_texts['input_ids'][idx],\n",
    "            'attention_mask': self.tokenized_texts['attention_mask'][idx],\n",
    "            'labels': self.label_indices[idx]\n",
    "        }\n",
    "\n",
    "# Create a DataLoader\n",
    "\n",
    "label_tensors = [torch.tensor(indices) for indices in label_indices]\n",
    "batch_size = 32\n",
    "train_dataset = custom_datasets(tokenized_texts, label_tensors)\n",
    "train_dataloader = DataLoader(train_dataset, batch_size=batch_size, shuffle=True)"
   ]
  },
  {
   "cell_type": "code",
   "execution_count": 51,
   "metadata": {},
   "outputs": [
    {
     "name": "stderr",
     "output_type": "stream",
     "text": [
      "Some weights of BertForTokenClassification were not initialized from the model checkpoint at bert-base-multilingual-cased and are newly initialized: ['classifier.weight', 'classifier.bias']\n",
      "You should probably TRAIN this model on a down-stream task to be able to use it for predictions and inference.\n",
      "c:\\Users\\Rabin\\AppData\\Local\\Programs\\Python\\Python311\\Lib\\site-packages\\transformers\\optimization.py:411: FutureWarning: This implementation of AdamW is deprecated and will be removed in a future version. Use the PyTorch implementation torch.optim.AdamW instead, or set `no_deprecation_warning=True` to disable this warning\n",
      "  warnings.warn(\n"
     ]
    },
    {
     "ename": "AttributeError",
     "evalue": "'list' object has no attribute 'view'",
     "output_type": "error",
     "traceback": [
      "\u001b[1;31m---------------------------------------------------------------------------\u001b[0m",
      "\u001b[1;31mAttributeError\u001b[0m                            Traceback (most recent call last)",
      "Cell \u001b[1;32mIn[51], line 25\u001b[0m\n\u001b[0;32m     19\u001b[0m optimizer\u001b[39m.\u001b[39mzero_grad()\n\u001b[0;32m     20\u001b[0m inputs \u001b[39m=\u001b[39m {\n\u001b[0;32m     21\u001b[0m     \u001b[39m'\u001b[39m\u001b[39minput_ids\u001b[39m\u001b[39m'\u001b[39m: batch[\u001b[39m'\u001b[39m\u001b[39minput_ids\u001b[39m\u001b[39m'\u001b[39m],\n\u001b[0;32m     22\u001b[0m     \u001b[39m'\u001b[39m\u001b[39mattention_mask\u001b[39m\u001b[39m'\u001b[39m: batch[\u001b[39m'\u001b[39m\u001b[39mattention_mask\u001b[39m\u001b[39m'\u001b[39m],\n\u001b[0;32m     23\u001b[0m     \u001b[39m'\u001b[39m\u001b[39mlabels\u001b[39m\u001b[39m'\u001b[39m: batch[\u001b[39m'\u001b[39m\u001b[39mlabels\u001b[39m\u001b[39m'\u001b[39m]\n\u001b[0;32m     24\u001b[0m }\n\u001b[1;32m---> 25\u001b[0m outputs \u001b[39m=\u001b[39m model(\u001b[39m*\u001b[39;49m\u001b[39m*\u001b[39;49minputs)\n\u001b[0;32m     26\u001b[0m loss \u001b[39m=\u001b[39m outputs\u001b[39m.\u001b[39mloss\n\u001b[0;32m     27\u001b[0m total_loss \u001b[39m+\u001b[39m\u001b[39m=\u001b[39m loss\u001b[39m.\u001b[39mitem()\n",
      "File \u001b[1;32mc:\\Users\\Rabin\\AppData\\Local\\Programs\\Python\\Python311\\Lib\\site-packages\\torch\\nn\\modules\\module.py:1501\u001b[0m, in \u001b[0;36mModule._call_impl\u001b[1;34m(self, *args, **kwargs)\u001b[0m\n\u001b[0;32m   1496\u001b[0m \u001b[39m# If we don't have any hooks, we want to skip the rest of the logic in\u001b[39;00m\n\u001b[0;32m   1497\u001b[0m \u001b[39m# this function, and just call forward.\u001b[39;00m\n\u001b[0;32m   1498\u001b[0m \u001b[39mif\u001b[39;00m \u001b[39mnot\u001b[39;00m (\u001b[39mself\u001b[39m\u001b[39m.\u001b[39m_backward_hooks \u001b[39mor\u001b[39;00m \u001b[39mself\u001b[39m\u001b[39m.\u001b[39m_backward_pre_hooks \u001b[39mor\u001b[39;00m \u001b[39mself\u001b[39m\u001b[39m.\u001b[39m_forward_hooks \u001b[39mor\u001b[39;00m \u001b[39mself\u001b[39m\u001b[39m.\u001b[39m_forward_pre_hooks\n\u001b[0;32m   1499\u001b[0m         \u001b[39mor\u001b[39;00m _global_backward_pre_hooks \u001b[39mor\u001b[39;00m _global_backward_hooks\n\u001b[0;32m   1500\u001b[0m         \u001b[39mor\u001b[39;00m _global_forward_hooks \u001b[39mor\u001b[39;00m _global_forward_pre_hooks):\n\u001b[1;32m-> 1501\u001b[0m     \u001b[39mreturn\u001b[39;00m forward_call(\u001b[39m*\u001b[39;49margs, \u001b[39m*\u001b[39;49m\u001b[39m*\u001b[39;49mkwargs)\n\u001b[0;32m   1502\u001b[0m \u001b[39m# Do not call functions when jit is used\u001b[39;00m\n\u001b[0;32m   1503\u001b[0m full_backward_hooks, non_full_backward_hooks \u001b[39m=\u001b[39m [], []\n",
      "File \u001b[1;32mc:\\Users\\Rabin\\AppData\\Local\\Programs\\Python\\Python311\\Lib\\site-packages\\transformers\\models\\bert\\modeling_bert.py:1776\u001b[0m, in \u001b[0;36mBertForTokenClassification.forward\u001b[1;34m(self, input_ids, attention_mask, token_type_ids, position_ids, head_mask, inputs_embeds, labels, output_attentions, output_hidden_states, return_dict)\u001b[0m\n\u001b[0;32m   1774\u001b[0m \u001b[39mif\u001b[39;00m labels \u001b[39mis\u001b[39;00m \u001b[39mnot\u001b[39;00m \u001b[39mNone\u001b[39;00m:\n\u001b[0;32m   1775\u001b[0m     loss_fct \u001b[39m=\u001b[39m CrossEntropyLoss()\n\u001b[1;32m-> 1776\u001b[0m     loss \u001b[39m=\u001b[39m loss_fct(logits\u001b[39m.\u001b[39mview(\u001b[39m-\u001b[39m\u001b[39m1\u001b[39m, \u001b[39mself\u001b[39m\u001b[39m.\u001b[39mnum_labels), labels\u001b[39m.\u001b[39;49mview(\u001b[39m-\u001b[39m\u001b[39m1\u001b[39m))\n\u001b[0;32m   1778\u001b[0m \u001b[39mif\u001b[39;00m \u001b[39mnot\u001b[39;00m return_dict:\n\u001b[0;32m   1779\u001b[0m     output \u001b[39m=\u001b[39m (logits,) \u001b[39m+\u001b[39m outputs[\u001b[39m2\u001b[39m:]\n",
      "\u001b[1;31mAttributeError\u001b[0m: 'list' object has no attribute 'view'"
     ]
    }
   ],
   "source": [
    "# Fine tuning \n",
    "from transformers import BertForTokenClassification, AdamW\n",
    "import torch\n",
    "\n",
    "# Load pre-trained BERT model for token classification\n",
    "model = BertForTokenClassification.from_pretrained('bert-base-multilingual-cased', num_labels=len(labels_to_index))\n",
    "\n",
    "# Define optimizer and loss function\n",
    "optimizer = AdamW(model.parameters(), lr=1e-5)\n",
    "loss_fn = torch.nn.CrossEntropyLoss()\n",
    "\n",
    "# Training loop\n",
    "num_epochs = 10\n",
    "for epoch in range(num_epochs):\n",
    "    model.train()\n",
    "    total_loss = 0\n",
    "    \n",
    "for batch in train_dataloader:\n",
    "    optimizer.zero_grad()\n",
    "    inputs = {\n",
    "        'input_ids': batch['input_ids'],\n",
    "        'attention_mask': batch['attention_mask'],\n",
    "        'labels': batch['labels']  # Use the tensor of label indices\n",
    "    }\n",
    "    outputs = model(**inputs)\n",
    "    loss = outputs.loss\n",
    "    total_loss += loss.item()\n",
    "    loss.backward()\n",
    "    optimizer.step()\n",
    "    \n",
    "    avg_loss = total_loss / len(train_dataloader)\n",
    "    print(f'Epoch {epoch+1}/{num_epochs} - Average Loss: {avg_loss:.4f}')\n"
   ]
  }
 ],
 "metadata": {
  "kernelspec": {
   "display_name": "Python 3",
   "language": "python",
   "name": "python3"
  },
  "language_info": {
   "codemirror_mode": {
    "name": "ipython",
    "version": 3
   },
   "file_extension": ".py",
   "mimetype": "text/x-python",
   "name": "python",
   "nbconvert_exporter": "python",
   "pygments_lexer": "ipython3",
   "version": "3.11.4"
  },
  "orig_nbformat": 4
 },
 "nbformat": 4,
 "nbformat_minor": 2
}
